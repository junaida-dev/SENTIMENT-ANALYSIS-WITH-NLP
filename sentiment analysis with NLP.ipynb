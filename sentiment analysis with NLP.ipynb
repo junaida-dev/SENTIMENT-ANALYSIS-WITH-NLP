{
 "cells": [
  {
   "cell_type": "code",
   "execution_count": 1,
   "id": "a49913ae-dae8-4bdc-b5e6-aa043844d0f9",
   "metadata": {},
   "outputs": [
    {
     "name": "stdout",
     "output_type": "stream",
     "text": [
      "Requirement already satisfied: pandas in c:\\users\\junai\\anaconda3\\envs\\machinelearning\\lib\\site-packages (2.2.3)\n",
      "Requirement already satisfied: numpy in c:\\users\\junai\\anaconda3\\envs\\machinelearning\\lib\\site-packages (2.1.3)\n",
      "Requirement already satisfied: scikit-learn in c:\\users\\junai\\anaconda3\\envs\\machinelearning\\lib\\site-packages (1.6.1)\n",
      "Requirement already satisfied: matplotlib in c:\\users\\junai\\anaconda3\\envs\\machinelearning\\lib\\site-packages (3.10.1)\n",
      "Requirement already satisfied: seaborn in c:\\users\\junai\\anaconda3\\envs\\machinelearning\\lib\\site-packages (0.13.2)\n",
      "Requirement already satisfied: python-dateutil>=2.8.2 in c:\\users\\junai\\anaconda3\\envs\\machinelearning\\lib\\site-packages (from pandas) (2.9.0.post0)\n",
      "Requirement already satisfied: pytz>=2020.1 in c:\\users\\junai\\anaconda3\\envs\\machinelearning\\lib\\site-packages (from pandas) (2025.2)\n",
      "Requirement already satisfied: tzdata>=2022.7 in c:\\users\\junai\\anaconda3\\envs\\machinelearning\\lib\\site-packages (from pandas) (2025.2)\n",
      "Requirement already satisfied: scipy>=1.6.0 in c:\\users\\junai\\anaconda3\\envs\\machinelearning\\lib\\site-packages (from scikit-learn) (1.15.2)\n",
      "Requirement already satisfied: joblib>=1.2.0 in c:\\users\\junai\\anaconda3\\envs\\machinelearning\\lib\\site-packages (from scikit-learn) (1.4.2)\n",
      "Requirement already satisfied: threadpoolctl>=3.1.0 in c:\\users\\junai\\anaconda3\\envs\\machinelearning\\lib\\site-packages (from scikit-learn) (3.6.0)\n",
      "Requirement already satisfied: contourpy>=1.0.1 in c:\\users\\junai\\anaconda3\\envs\\machinelearning\\lib\\site-packages (from matplotlib) (1.3.1)\n",
      "Requirement already satisfied: cycler>=0.10 in c:\\users\\junai\\anaconda3\\envs\\machinelearning\\lib\\site-packages (from matplotlib) (0.12.1)\n",
      "Requirement already satisfied: fonttools>=4.22.0 in c:\\users\\junai\\anaconda3\\envs\\machinelearning\\lib\\site-packages (from matplotlib) (4.57.0)\n",
      "Requirement already satisfied: kiwisolver>=1.3.1 in c:\\users\\junai\\anaconda3\\envs\\machinelearning\\lib\\site-packages (from matplotlib) (1.4.8)\n",
      "Requirement already satisfied: packaging>=20.0 in c:\\users\\junai\\anaconda3\\envs\\machinelearning\\lib\\site-packages (from matplotlib) (24.2)\n",
      "Requirement already satisfied: pillow>=8 in c:\\users\\junai\\anaconda3\\envs\\machinelearning\\lib\\site-packages (from matplotlib) (11.2.1)\n",
      "Requirement already satisfied: pyparsing>=2.3.1 in c:\\users\\junai\\anaconda3\\envs\\machinelearning\\lib\\site-packages (from matplotlib) (3.2.3)\n",
      "Requirement already satisfied: six>=1.5 in c:\\users\\junai\\anaconda3\\envs\\machinelearning\\lib\\site-packages (from python-dateutil>=2.8.2->pandas) (1.17.0)\n"
     ]
    }
   ],
   "source": [
    "#installing required libraries\n",
    "!pip install pandas numpy scikit-learn matplotlib seaborn"
   ]
  },
  {
   "cell_type": "code",
   "execution_count": 3,
   "id": "51872428-7fe5-4ed3-b0e9-5eeef2527f4a",
   "metadata": {},
   "outputs": [],
   "source": [
    "#importing libraries\n",
    "import numpy as np\n",
    "import pandas as pd\n",
    "import matplotlib.pyplot as plt\n",
    "import seaborn as sns\n",
    "from sklearn.model_selection import train_test_split\n",
    "from sklearn.feature_extraction.text import TfidfVectorizer\n",
    "from sklearn.linear_model import LogisticRegression\n",
    "from sklearn.metrics import classification_report, confusion_matrix"
   ]
  },
  {
   "cell_type": "code",
   "execution_count": 5,
   "id": "9fa1c0c1-e4ef-4dd2-a6e2-fa51939752b3",
   "metadata": {},
   "outputs": [],
   "source": [
    "#loading the dataset\n",
    "df = pd.read_csv('Reviews.csv')\n"
   ]
  },
  {
   "cell_type": "code",
   "execution_count": 9,
   "id": "4a8655fe-41b9-484d-9f01-7a941291d593",
   "metadata": {},
   "outputs": [],
   "source": [
    "# data preprocessing\n",
    "\n",
    "#selecting only required columns\n",
    "df = df[['Text', 'Score']]\n",
    "\n",
    "#converting score into binary labels\n",
    "#1,2-> Negative(0), 4,5->Positive(1), drop score=3(neutral)\n",
    "df = df[df['Score'] != 3]\n",
    "df['Sentiment'] = df['Score'].apply(lambda x: 1 if x > 3 else 0)"
   ]
  },
  {
   "cell_type": "code",
   "execution_count": 11,
   "id": "c6058d37-f9ab-4c9c-b18f-e8f4330b3bda",
   "metadata": {},
   "outputs": [
    {
     "name": "stdout",
     "output_type": "stream",
     "text": [
      "\n",
      "Class distribution:\n",
      "Sentiment\n",
      "1    443777\n",
      "0     82037\n",
      "Name: count, dtype: int64\n"
     ]
    }
   ],
   "source": [
    "#checking the class balance\n",
    "print('\\nClass distribution:')\n",
    "print(df['Sentiment'].value_counts())"
   ]
  },
  {
   "cell_type": "code",
   "execution_count": 13,
   "id": "724a0030-a0bc-48ee-a2e0-ebcc4c6adadb",
   "metadata": {},
   "outputs": [],
   "source": [
    "#Train-Test split\n",
    "X = df['Text']              \n",
    "y = df['Sentiment'] "
   ]
  },
  {
   "cell_type": "code",
   "execution_count": 15,
   "id": "ff1cc68f-00c7-4b08-91de-72d597c7f845",
   "metadata": {},
   "outputs": [
    {
     "name": "stdout",
     "output_type": "stream",
     "text": [
      "\n",
      "Training samples: 420651\n",
      "Testing samples: 105163\n"
     ]
    }
   ],
   "source": [
    "#splitting into 80% training and 20% testing\n",
    "X_train, X_test, y_train, y_test = train_test_split(\n",
    "    X, y, test_size=0.2, random_state=42, stratify=y)\n",
    "\n",
    "print(f\"\\nTraining samples: {X_train.shape[0]}\")\n",
    "print(f\"Testing samples: {X_test.shape[0]}\")"
   ]
  },
  {
   "cell_type": "code",
   "execution_count": 17,
   "id": "b2e6ffd6-5e65-4800-87d6-655c80d8bc12",
   "metadata": {},
   "outputs": [
    {
     "name": "stdout",
     "output_type": "stream",
     "text": [
      "\n",
      "TF-IDF feature matrix shape (Train): (420651, 10000)\n",
      "TF-IDF feature matrix shape (Test): (105163, 10000)\n"
     ]
    }
   ],
   "source": [
    "#TF-IDF Vectorization\n",
    "tfidf = TfidfVectorizer(max_features=10000, ngram_range=(1, 2), stop_words='english')\n",
    "\n",
    "# Fit on training text and transform both train and test sets\n",
    "X_train_tfidf = tfidf.fit_transform(X_train)\n",
    "X_test_tfidf = tfidf.transform(X_test)\n",
    "\n",
    "print(f\"\\nTF-IDF feature matrix shape (Train): {X_train_tfidf.shape}\")\n",
    "print(f\"TF-IDF feature matrix shape (Test): {X_test_tfidf.shape}\")\n"
   ]
  },
  {
   "cell_type": "code",
   "execution_count": 19,
   "id": "56e076ad-860e-42ef-bca7-2ec12a833c1f",
   "metadata": {},
   "outputs": [
    {
     "name": "stdout",
     "output_type": "stream",
     "text": [
      "\n",
      "Logistic Regression model trained successfully!\n"
     ]
    }
   ],
   "source": [
    "#training Logistic Regression Model\n",
    "lr = LogisticRegression(max_iter=1000)\n",
    "lr.fit(X_train_tfidf, y_train)\n",
    "print(\"\\nLogistic Regression model trained successfully!\")"
   ]
  },
  {
   "cell_type": "code",
   "execution_count": 21,
   "id": "f5702794-d3ea-4a18-8768-7315821788b8",
   "metadata": {},
   "outputs": [
    {
     "name": "stdout",
     "output_type": "stream",
     "text": [
      "\n",
      "Classification Report:\n",
      "              precision    recall  f1-score   support\n",
      "\n",
      "           0       0.86      0.71      0.77     16407\n",
      "           1       0.95      0.98      0.96     88756\n",
      "\n",
      "    accuracy                           0.94    105163\n",
      "   macro avg       0.90      0.84      0.87    105163\n",
      "weighted avg       0.93      0.94      0.93    105163\n",
      "\n"
     ]
    }
   ],
   "source": [
    "#evaluating the model performance\n",
    "y_prediction = lr.predict(X_test_tfidf)\n",
    "\n",
    "print(\"\\nClassification Report:\")\n",
    "print(classification_report(y_test, y_prediction))"
   ]
  },
  {
   "cell_type": "code",
   "execution_count": 34,
   "id": "86162a32-67ae-48a6-987c-84281fae8e6c",
   "metadata": {},
   "outputs": [
    {
     "data": {
      "image/png": "[encoded data removed]",
      "text/plain": [
       "<Figure size 600x400 with 2 Axes>"
      ]
     },
     "metadata": {},
     "output_type": "display_data"
    }
   ],
   "source": [
    "#confusion matrix plot\n",
    "from sklearn.metrics import confusion_matrix\n",
    "import seaborn as sns\n",
    "import matplotlib.pyplot as plt\n",
    "\n",
    "# Correct: calculate confusion matrix\n",
    "cm = confusion_matrix(y_test, y_prediction)\n",
    "\n",
    "# Plot\n",
    "plt.figure(figsize=(6,4))\n",
    "sns.heatmap(cm, annot=True, fmt='d', cmap='Blues')\n",
    "plt.xlabel('Predicted Sentiment')\n",
    "plt.ylabel('Actual Sentiment')\n",
    "plt.title('Confusion Matrix')\n",
    "plt.show()"
   ]
  },
  {
   "cell_type": "code",
   "execution_count": 36,
   "id": "b0c8a06e-87c8-4264-b3aa-8729495a3134",
   "metadata": {},
   "outputs": [],
   "source": [
    "#testing the model with custom input\n",
    "def predict_sentiment(text):\n",
    "    vec = tfidf.transform([text])\n",
    "    result = lr.predict(vec)\n",
    "    return \"Positive \" if result[0] == 1 else \"Negative \""
   ]
  },
  {
   "cell_type": "code",
   "execution_count": 38,
   "id": "9ab79225-1e0d-4d4e-8e1e-00245020e534",
   "metadata": {},
   "outputs": [
    {
     "name": "stdout",
     "output_type": "stream",
     "text": [
      "\n",
      "Custom Test Example 1: Positive \n",
      "Custom Test Example 2: Negative \n"
     ]
    }
   ],
   "source": [
    "print(\"\\nCustom Test Example 1:\", predict_sentiment(\"This product is excellent and I love it!\"))\n",
    "print(\"Custom Test Example 2:\", predict_sentiment(\"Worst experience ever. Totally disappointed.\"))"
   ]
  },
  {
   "cell_type": "code",
   "execution_count": null,
   "id": "b54591fe-e394-4c11-b105-c9c0f288ac65",
   "metadata": {},
   "outputs": [],
   "source": []
  }
 ],
 "metadata": {
  "kernelspec": {
   "display_name": "Python [conda env:machinelearning]",
   "language": "python",
   "name": "conda-env-machinelearning-py"
  },
  "language_info": {
   "codemirror_mode": {
    "name": "ipython",
    "version": 3
   },
   "file_extension": ".py",
   "mimetype": "text/x-python",
   "name": "python",
   "nbconvert_exporter": "python",
   "pygments_lexer": "ipython3",
   "version": "3.12.9"
  }
 },
 "nbformat": 4,
 "nbformat_minor": 5
}
